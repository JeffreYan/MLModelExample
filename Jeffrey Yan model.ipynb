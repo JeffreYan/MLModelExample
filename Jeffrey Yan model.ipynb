{
 "cells": [
  {
   "cell_type": "markdown",
   "id": "8e132d19",
   "metadata": {},
   "source": [
    "Context:\n",
    "\n",
    "The attached file contains:\n",
    "\n",
    "users' activations/cancellations\n",
    "\n",
    "users' survey answers (answers are per user, not per activation/cancellation)\n",
    "\n",
    "ruid column whose meanings do not matter\n",
    "\n",
    "\n",
    "Directions:\n",
    "\n",
    "In a Jupyter notebook (.ipynb file):\n",
    "\n",
    "develop a model that predicts whether a user will stay or cancel\n",
    "\n",
    "show which columns affect the result most\n",
    "\n",
    "explain why you chose your algorithm and its configuration, what the alternatives were, how you evaluate the predictions, how you find the most influential columns.\n",
    "\n",
    "\n",
    "In a Python script (.py file):\n",
    "wrap your finalized model in a Python class with public methods for train, predict, and evaluate.\n",
    "\n",
    "Helpful Tips & Tricks:\n",
    "\n",
    "\n",
    "We prefer that you use python 3, pandas, scikit-learn or related technologies but if you are more fluent in any other technology, please, use that technology. We are not looking for the best code but for the best model and ability to explain your choices.\n",
    "\n",
    "This exercise shouldn't take more than a few hours, but feel free to take more time if that is helpful to you. \n",
    "\n",
    "We know life gets busy. While we hope for a 3 day turnaround, please let us know if you’ll require extra time so we can plan accordingly.\n",
    "\n"
   ]
  },
  {
   "cell_type": "markdown",
   "id": "8698e818",
   "metadata": {},
   "source": [
    "todo: \n",
    "check for missing data\n",
    "\n",
    "since survey answers are per user, we can just take the latest event as the sole row for each user\n",
    "\n",
    "for survey questions, we can either treat the responses 1-10 as a continuous variable or treat it as categorical and create dummy variables. using dummy variables uses up degrees of freedom.\n",
    "\n",
    "logistic regression\n",
    "decision tree\n",
    "random forest"
   ]
  },
  {
   "cell_type": "code",
   "execution_count": 4,
   "id": "cda76179",
   "metadata": {},
   "outputs": [],
   "source": [
    "import pandas as pd\n",
    "import sklearn\n",
    "import matplotlib.pyplot as plt\n",
    "import numpy as np\n",
    "import datetime\n",
    "\n",
    "from sklearn.model_selection import train_test_split\n",
    "from sklearn import tree\n",
    "from sklearn import metrics\n",
    "from sklearn.metrics import ConfusionMatrixDisplay\n",
    "from sklearn.linear_model import LogisticRegression\n",
    "from sklearn.feature_selection import SelectFromModel\n",
    "\n",
    "from sklearn.ensemble import RandomForestClassifier\n"
   ]
  },
  {
   "cell_type": "code",
   "execution_count": 5,
   "id": "5f02cf5a",
   "metadata": {},
   "outputs": [],
   "source": [
    "users = pd.read_csv(\"ds_test.csv\")"
   ]
  },
  {
   "cell_type": "code",
   "execution_count": 6,
   "id": "a591d968",
   "metadata": {},
   "outputs": [],
   "source": [
    "users.drop(['Unnamed: 0', 'survey_followup', 'ruid'], axis=1, inplace=True)"
   ]
  },
  {
   "cell_type": "code",
   "execution_count": 7,
   "id": "69f08fcc",
   "metadata": {},
   "outputs": [
    {
     "name": "stdout",
     "output_type": "stream",
     "text": [
      "16162\n",
      "15494\n"
     ]
    }
   ],
   "source": [
    "# I'm comfortable with dropping the NAs at this point because we only go from 16162 to 15494\n",
    "print(len(users))\n",
    "users.dropna(inplace=True)\n",
    "print(len(users))"
   ]
  },
  {
   "cell_type": "code",
   "execution_count": 8,
   "id": "c8a3a895",
   "metadata": {
    "scrolled": true
   },
   "outputs": [
    {
     "data": {
      "text/html": [
       "<div>\n",
       "<style scoped>\n",
       "    .dataframe tbody tr th:only-of-type {\n",
       "        vertical-align: middle;\n",
       "    }\n",
       "\n",
       "    .dataframe tbody tr th {\n",
       "        vertical-align: top;\n",
       "    }\n",
       "\n",
       "    .dataframe thead th {\n",
       "        text-align: right;\n",
       "    }\n",
       "</style>\n",
       "<table border=\"1\" class=\"dataframe\">\n",
       "  <thead>\n",
       "    <tr style=\"text-align: right;\">\n",
       "      <th></th>\n",
       "      <th>userid</th>\n",
       "      <th>event_timestamp</th>\n",
       "      <th>event_label</th>\n",
       "      <th>survey_timestamp</th>\n",
       "      <th>survey_question_1</th>\n",
       "      <th>survey_question_2</th>\n",
       "      <th>survey_question_3</th>\n",
       "      <th>survey_question_4</th>\n",
       "    </tr>\n",
       "  </thead>\n",
       "  <tbody>\n",
       "    <tr>\n",
       "      <th>0</th>\n",
       "      <td>358002</td>\n",
       "      <td>1432329796</td>\n",
       "      <td>activation</td>\n",
       "      <td>1432084088</td>\n",
       "      <td>10.0</td>\n",
       "      <td>b</td>\n",
       "      <td>10.0</td>\n",
       "      <td>7</td>\n",
       "    </tr>\n",
       "    <tr>\n",
       "      <th>1</th>\n",
       "      <td>358002</td>\n",
       "      <td>1539877368</td>\n",
       "      <td>cancellation</td>\n",
       "      <td>1432084088</td>\n",
       "      <td>10.0</td>\n",
       "      <td>b</td>\n",
       "      <td>10.0</td>\n",
       "      <td>7</td>\n",
       "    </tr>\n",
       "    <tr>\n",
       "      <th>2</th>\n",
       "      <td>358002</td>\n",
       "      <td>1539879413</td>\n",
       "      <td>activation</td>\n",
       "      <td>1432084088</td>\n",
       "      <td>10.0</td>\n",
       "      <td>b</td>\n",
       "      <td>10.0</td>\n",
       "      <td>7</td>\n",
       "    </tr>\n",
       "    <tr>\n",
       "      <th>3</th>\n",
       "      <td>358002</td>\n",
       "      <td>1539956715</td>\n",
       "      <td>cancellation</td>\n",
       "      <td>1432084088</td>\n",
       "      <td>10.0</td>\n",
       "      <td>b</td>\n",
       "      <td>10.0</td>\n",
       "      <td>7</td>\n",
       "    </tr>\n",
       "    <tr>\n",
       "      <th>4</th>\n",
       "      <td>358002</td>\n",
       "      <td>1551462940</td>\n",
       "      <td>activation</td>\n",
       "      <td>1432084088</td>\n",
       "      <td>10.0</td>\n",
       "      <td>b</td>\n",
       "      <td>10.0</td>\n",
       "      <td>7</td>\n",
       "    </tr>\n",
       "  </tbody>\n",
       "</table>\n",
       "</div>"
      ],
      "text/plain": [
       "   userid  event_timestamp   event_label  survey_timestamp  survey_question_1  \\\n",
       "0  358002       1432329796    activation        1432084088               10.0   \n",
       "1  358002       1539877368  cancellation        1432084088               10.0   \n",
       "2  358002       1539879413    activation        1432084088               10.0   \n",
       "3  358002       1539956715  cancellation        1432084088               10.0   \n",
       "4  358002       1551462940    activation        1432084088               10.0   \n",
       "\n",
       "  survey_question_2  survey_question_3  survey_question_4  \n",
       "0                 b               10.0                  7  \n",
       "1                 b               10.0                  7  \n",
       "2                 b               10.0                  7  \n",
       "3                 b               10.0                  7  \n",
       "4                 b               10.0                  7  "
      ]
     },
     "execution_count": 8,
     "metadata": {},
     "output_type": "execute_result"
    }
   ],
   "source": [
    "users.head()"
   ]
  },
  {
   "cell_type": "code",
   "execution_count": 9,
   "id": "f516e0de",
   "metadata": {},
   "outputs": [],
   "source": [
    "users.event_label = users.event_label.map({'activation':1, 'cancellation':0})"
   ]
  },
  {
   "cell_type": "code",
   "execution_count": 10,
   "id": "ceea5a9a",
   "metadata": {},
   "outputs": [],
   "source": [
    "users.event_timestamp = pd.to_datetime(users['event_timestamp'],unit='s')\n",
    "users.survey_timestamp = pd.to_datetime(users['survey_timestamp'],unit='s')"
   ]
  },
  {
   "cell_type": "code",
   "execution_count": 11,
   "id": "3dd36b3c",
   "metadata": {},
   "outputs": [],
   "source": [
    "users['month_year'] = users['event_timestamp'].dt.to_period('M')\n",
    "users['survey_month_year'] = users['survey_timestamp'].dt.to_period('M')"
   ]
  },
  {
   "cell_type": "code",
   "execution_count": 12,
   "id": "c4291db0",
   "metadata": {},
   "outputs": [],
   "source": [
    "users = users.sort_values('event_timestamp').drop_duplicates('userid', keep='last')"
   ]
  },
  {
   "cell_type": "code",
   "execution_count": 13,
   "id": "59e38166",
   "metadata": {},
   "outputs": [
    {
     "data": {
      "text/plain": [
       "6427"
      ]
     },
     "execution_count": 13,
     "metadata": {},
     "output_type": "execute_result"
    }
   ],
   "source": [
    "len(users)"
   ]
  },
  {
   "cell_type": "markdown",
   "id": "383c9e07",
   "metadata": {},
   "source": [
    "### Inactive users never respond with a 2, 5, or 9 to survey question 4. This is very odd behavior and makes me wary of creating dummy variables of question 4 because of how systematic those values are missing. This could be caused by a glitch in the survey where it doesn't allow inputting a 2, 5, or 9 if you are a deactivated user. Because of this, I want to treat question 4 as a continuous variable and not use dummy variables."
   ]
  },
  {
   "cell_type": "code",
   "execution_count": 14,
   "id": "c2133e29",
   "metadata": {},
   "outputs": [],
   "source": [
    "q1 = pd.get_dummies(users.survey_question_1, prefix=\"survey_question_1\")\n",
    "users = users.join(q1)\n",
    "\n",
    "q2 = pd.get_dummies(users.survey_question_2, prefix=\"survey_question_2\")\n",
    "users = users.join(q2)\n",
    "\n",
    "q3 = pd.get_dummies(users.survey_question_3, prefix=\"survey_question_3\")\n",
    "users = users.join(q3)\n",
    "\n",
    "#q4 = pd.get_dummies(users.survey_question_4, prefix=\"survey_question_4\")\n",
    "#users = users.join(q4)"
   ]
  },
  {
   "cell_type": "code",
   "execution_count": 15,
   "id": "eb0d22ef",
   "metadata": {},
   "outputs": [],
   "source": [
    "active = users[users['event_label']==1]\n",
    "inactive = users[users['event_label']==0]"
   ]
  },
  {
   "cell_type": "code",
   "execution_count": 16,
   "id": "8edf8f3f",
   "metadata": {
    "scrolled": false
   },
   "outputs": [
    {
     "data": {
      "text/html": [
       "<div>\n",
       "<style scoped>\n",
       "    .dataframe tbody tr th:only-of-type {\n",
       "        vertical-align: middle;\n",
       "    }\n",
       "\n",
       "    .dataframe tbody tr th {\n",
       "        vertical-align: top;\n",
       "    }\n",
       "\n",
       "    .dataframe thead th {\n",
       "        text-align: right;\n",
       "    }\n",
       "</style>\n",
       "<table border=\"1\" class=\"dataframe\">\n",
       "  <thead>\n",
       "    <tr style=\"text-align: right;\">\n",
       "      <th></th>\n",
       "      <th>userid</th>\n",
       "      <th>event_timestamp</th>\n",
       "      <th>event_label</th>\n",
       "      <th>survey_timestamp</th>\n",
       "      <th>survey_question_1</th>\n",
       "      <th>survey_question_2</th>\n",
       "      <th>survey_question_3</th>\n",
       "      <th>survey_question_4</th>\n",
       "      <th>month_year</th>\n",
       "      <th>survey_month_year</th>\n",
       "      <th>...</th>\n",
       "      <th>survey_question_3_1.0</th>\n",
       "      <th>survey_question_3_2.0</th>\n",
       "      <th>survey_question_3_3.0</th>\n",
       "      <th>survey_question_3_4.0</th>\n",
       "      <th>survey_question_3_5.0</th>\n",
       "      <th>survey_question_3_6.0</th>\n",
       "      <th>survey_question_3_7.0</th>\n",
       "      <th>survey_question_3_8.0</th>\n",
       "      <th>survey_question_3_9.0</th>\n",
       "      <th>survey_question_3_10.0</th>\n",
       "    </tr>\n",
       "  </thead>\n",
       "  <tbody>\n",
       "    <tr>\n",
       "      <th>12303</th>\n",
       "      <td>2029</td>\n",
       "      <td>2010-07-26 14:44:37</td>\n",
       "      <td>1</td>\n",
       "      <td>2015-07-08 05:21:41</td>\n",
       "      <td>10.0</td>\n",
       "      <td>a</td>\n",
       "      <td>10.0</td>\n",
       "      <td>3</td>\n",
       "      <td>2010-07</td>\n",
       "      <td>2015-07</td>\n",
       "      <td>...</td>\n",
       "      <td>0</td>\n",
       "      <td>0</td>\n",
       "      <td>0</td>\n",
       "      <td>0</td>\n",
       "      <td>0</td>\n",
       "      <td>0</td>\n",
       "      <td>0</td>\n",
       "      <td>0</td>\n",
       "      <td>0</td>\n",
       "      <td>1</td>\n",
       "    </tr>\n",
       "    <tr>\n",
       "      <th>3392</th>\n",
       "      <td>2045</td>\n",
       "      <td>2010-07-26 21:18:16</td>\n",
       "      <td>1</td>\n",
       "      <td>2015-05-31 09:05:41</td>\n",
       "      <td>3.0</td>\n",
       "      <td>c</td>\n",
       "      <td>8.0</td>\n",
       "      <td>5</td>\n",
       "      <td>2010-07</td>\n",
       "      <td>2015-05</td>\n",
       "      <td>...</td>\n",
       "      <td>0</td>\n",
       "      <td>0</td>\n",
       "      <td>0</td>\n",
       "      <td>0</td>\n",
       "      <td>0</td>\n",
       "      <td>0</td>\n",
       "      <td>0</td>\n",
       "      <td>1</td>\n",
       "      <td>0</td>\n",
       "      <td>0</td>\n",
       "    </tr>\n",
       "    <tr>\n",
       "      <th>15788</th>\n",
       "      <td>1932</td>\n",
       "      <td>2010-08-27 14:15:16</td>\n",
       "      <td>1</td>\n",
       "      <td>2015-07-25 08:06:32</td>\n",
       "      <td>10.0</td>\n",
       "      <td>a</td>\n",
       "      <td>10.0</td>\n",
       "      <td>10</td>\n",
       "      <td>2010-08</td>\n",
       "      <td>2015-07</td>\n",
       "      <td>...</td>\n",
       "      <td>0</td>\n",
       "      <td>0</td>\n",
       "      <td>0</td>\n",
       "      <td>0</td>\n",
       "      <td>0</td>\n",
       "      <td>0</td>\n",
       "      <td>0</td>\n",
       "      <td>0</td>\n",
       "      <td>0</td>\n",
       "      <td>1</td>\n",
       "    </tr>\n",
       "    <tr>\n",
       "      <th>8233</th>\n",
       "      <td>37786</td>\n",
       "      <td>2012-09-11 18:46:11</td>\n",
       "      <td>1</td>\n",
       "      <td>2015-06-21 06:07:38</td>\n",
       "      <td>10.0</td>\n",
       "      <td>a</td>\n",
       "      <td>10.0</td>\n",
       "      <td>10</td>\n",
       "      <td>2012-09</td>\n",
       "      <td>2015-06</td>\n",
       "      <td>...</td>\n",
       "      <td>0</td>\n",
       "      <td>0</td>\n",
       "      <td>0</td>\n",
       "      <td>0</td>\n",
       "      <td>0</td>\n",
       "      <td>0</td>\n",
       "      <td>0</td>\n",
       "      <td>0</td>\n",
       "      <td>0</td>\n",
       "      <td>1</td>\n",
       "    </tr>\n",
       "    <tr>\n",
       "      <th>2180</th>\n",
       "      <td>37596</td>\n",
       "      <td>2012-09-12 14:22:45</td>\n",
       "      <td>1</td>\n",
       "      <td>2015-05-24 07:06:42</td>\n",
       "      <td>10.0</td>\n",
       "      <td>a</td>\n",
       "      <td>10.0</td>\n",
       "      <td>6</td>\n",
       "      <td>2012-09</td>\n",
       "      <td>2015-05</td>\n",
       "      <td>...</td>\n",
       "      <td>0</td>\n",
       "      <td>0</td>\n",
       "      <td>0</td>\n",
       "      <td>0</td>\n",
       "      <td>0</td>\n",
       "      <td>0</td>\n",
       "      <td>0</td>\n",
       "      <td>0</td>\n",
       "      <td>0</td>\n",
       "      <td>1</td>\n",
       "    </tr>\n",
       "  </tbody>\n",
       "</table>\n",
       "<p>5 rows × 33 columns</p>\n",
       "</div>"
      ],
      "text/plain": [
       "       userid     event_timestamp  event_label    survey_timestamp  \\\n",
       "12303    2029 2010-07-26 14:44:37            1 2015-07-08 05:21:41   \n",
       "3392     2045 2010-07-26 21:18:16            1 2015-05-31 09:05:41   \n",
       "15788    1932 2010-08-27 14:15:16            1 2015-07-25 08:06:32   \n",
       "8233    37786 2012-09-11 18:46:11            1 2015-06-21 06:07:38   \n",
       "2180    37596 2012-09-12 14:22:45            1 2015-05-24 07:06:42   \n",
       "\n",
       "       survey_question_1 survey_question_2  survey_question_3  \\\n",
       "12303               10.0                 a               10.0   \n",
       "3392                 3.0                 c                8.0   \n",
       "15788               10.0                 a               10.0   \n",
       "8233                10.0                 a               10.0   \n",
       "2180                10.0                 a               10.0   \n",
       "\n",
       "       survey_question_4 month_year survey_month_year  ...  \\\n",
       "12303                  3    2010-07           2015-07  ...   \n",
       "3392                   5    2010-07           2015-05  ...   \n",
       "15788                 10    2010-08           2015-07  ...   \n",
       "8233                  10    2012-09           2015-06  ...   \n",
       "2180                   6    2012-09           2015-05  ...   \n",
       "\n",
       "       survey_question_3_1.0  survey_question_3_2.0  survey_question_3_3.0  \\\n",
       "12303                      0                      0                      0   \n",
       "3392                       0                      0                      0   \n",
       "15788                      0                      0                      0   \n",
       "8233                       0                      0                      0   \n",
       "2180                       0                      0                      0   \n",
       "\n",
       "       survey_question_3_4.0  survey_question_3_5.0  survey_question_3_6.0  \\\n",
       "12303                      0                      0                      0   \n",
       "3392                       0                      0                      0   \n",
       "15788                      0                      0                      0   \n",
       "8233                       0                      0                      0   \n",
       "2180                       0                      0                      0   \n",
       "\n",
       "       survey_question_3_7.0  survey_question_3_8.0  survey_question_3_9.0  \\\n",
       "12303                      0                      0                      0   \n",
       "3392                       0                      1                      0   \n",
       "15788                      0                      0                      0   \n",
       "8233                       0                      0                      0   \n",
       "2180                       0                      0                      0   \n",
       "\n",
       "       survey_question_3_10.0  \n",
       "12303                       1  \n",
       "3392                        0  \n",
       "15788                       1  \n",
       "8233                        1  \n",
       "2180                        1  \n",
       "\n",
       "[5 rows x 33 columns]"
      ]
     },
     "execution_count": 16,
     "metadata": {},
     "output_type": "execute_result"
    }
   ],
   "source": [
    "active.head()"
   ]
  },
  {
   "cell_type": "code",
   "execution_count": 17,
   "id": "f80c85b7",
   "metadata": {},
   "outputs": [
    {
     "data": {
      "text/html": [
       "<div>\n",
       "<style scoped>\n",
       "    .dataframe tbody tr th:only-of-type {\n",
       "        vertical-align: middle;\n",
       "    }\n",
       "\n",
       "    .dataframe tbody tr th {\n",
       "        vertical-align: top;\n",
       "    }\n",
       "\n",
       "    .dataframe thead th {\n",
       "        text-align: right;\n",
       "    }\n",
       "</style>\n",
       "<table border=\"1\" class=\"dataframe\">\n",
       "  <thead>\n",
       "    <tr style=\"text-align: right;\">\n",
       "      <th></th>\n",
       "      <th>userid</th>\n",
       "      <th>event_timestamp</th>\n",
       "      <th>event_label</th>\n",
       "      <th>survey_timestamp</th>\n",
       "      <th>survey_question_1</th>\n",
       "      <th>survey_question_2</th>\n",
       "      <th>survey_question_3</th>\n",
       "      <th>survey_question_4</th>\n",
       "      <th>month_year</th>\n",
       "      <th>survey_month_year</th>\n",
       "      <th>...</th>\n",
       "      <th>survey_question_3_1.0</th>\n",
       "      <th>survey_question_3_2.0</th>\n",
       "      <th>survey_question_3_3.0</th>\n",
       "      <th>survey_question_3_4.0</th>\n",
       "      <th>survey_question_3_5.0</th>\n",
       "      <th>survey_question_3_6.0</th>\n",
       "      <th>survey_question_3_7.0</th>\n",
       "      <th>survey_question_3_8.0</th>\n",
       "      <th>survey_question_3_9.0</th>\n",
       "      <th>survey_question_3_10.0</th>\n",
       "    </tr>\n",
       "  </thead>\n",
       "  <tbody>\n",
       "    <tr>\n",
       "      <th>2050</th>\n",
       "      <td>1536</td>\n",
       "      <td>2010-06-01 13:01:22</td>\n",
       "      <td>0</td>\n",
       "      <td>2015-05-29 04:10:43</td>\n",
       "      <td>10.0</td>\n",
       "      <td>a</td>\n",
       "      <td>10.0</td>\n",
       "      <td>8</td>\n",
       "      <td>2010-06</td>\n",
       "      <td>2015-05</td>\n",
       "      <td>...</td>\n",
       "      <td>0</td>\n",
       "      <td>0</td>\n",
       "      <td>0</td>\n",
       "      <td>0</td>\n",
       "      <td>0</td>\n",
       "      <td>0</td>\n",
       "      <td>0</td>\n",
       "      <td>0</td>\n",
       "      <td>0</td>\n",
       "      <td>1</td>\n",
       "    </tr>\n",
       "    <tr>\n",
       "      <th>4346</th>\n",
       "      <td>17001</td>\n",
       "      <td>2013-05-16 13:34:24</td>\n",
       "      <td>0</td>\n",
       "      <td>2015-06-06 01:28:58</td>\n",
       "      <td>9.0</td>\n",
       "      <td>a</td>\n",
       "      <td>10.0</td>\n",
       "      <td>10</td>\n",
       "      <td>2013-05</td>\n",
       "      <td>2015-06</td>\n",
       "      <td>...</td>\n",
       "      <td>0</td>\n",
       "      <td>0</td>\n",
       "      <td>0</td>\n",
       "      <td>0</td>\n",
       "      <td>0</td>\n",
       "      <td>0</td>\n",
       "      <td>0</td>\n",
       "      <td>0</td>\n",
       "      <td>0</td>\n",
       "      <td>1</td>\n",
       "    </tr>\n",
       "    <tr>\n",
       "      <th>9999</th>\n",
       "      <td>89397</td>\n",
       "      <td>2013-12-29 21:46:28</td>\n",
       "      <td>0</td>\n",
       "      <td>2015-06-27 07:10:09</td>\n",
       "      <td>10.0</td>\n",
       "      <td>a</td>\n",
       "      <td>10.0</td>\n",
       "      <td>8</td>\n",
       "      <td>2013-12</td>\n",
       "      <td>2015-06</td>\n",
       "      <td>...</td>\n",
       "      <td>0</td>\n",
       "      <td>0</td>\n",
       "      <td>0</td>\n",
       "      <td>0</td>\n",
       "      <td>0</td>\n",
       "      <td>0</td>\n",
       "      <td>0</td>\n",
       "      <td>0</td>\n",
       "      <td>0</td>\n",
       "      <td>1</td>\n",
       "    </tr>\n",
       "    <tr>\n",
       "      <th>13692</th>\n",
       "      <td>68468</td>\n",
       "      <td>2014-01-27 15:09:12</td>\n",
       "      <td>0</td>\n",
       "      <td>2015-07-14 02:16:58</td>\n",
       "      <td>10.0</td>\n",
       "      <td>a</td>\n",
       "      <td>10.0</td>\n",
       "      <td>8</td>\n",
       "      <td>2014-01</td>\n",
       "      <td>2015-07</td>\n",
       "      <td>...</td>\n",
       "      <td>0</td>\n",
       "      <td>0</td>\n",
       "      <td>0</td>\n",
       "      <td>0</td>\n",
       "      <td>0</td>\n",
       "      <td>0</td>\n",
       "      <td>0</td>\n",
       "      <td>0</td>\n",
       "      <td>0</td>\n",
       "      <td>1</td>\n",
       "    </tr>\n",
       "    <tr>\n",
       "      <th>6733</th>\n",
       "      <td>135470</td>\n",
       "      <td>2014-02-05 14:22:45</td>\n",
       "      <td>0</td>\n",
       "      <td>2015-06-14 04:12:46</td>\n",
       "      <td>10.0</td>\n",
       "      <td>a</td>\n",
       "      <td>10.0</td>\n",
       "      <td>10</td>\n",
       "      <td>2014-02</td>\n",
       "      <td>2015-06</td>\n",
       "      <td>...</td>\n",
       "      <td>0</td>\n",
       "      <td>0</td>\n",
       "      <td>0</td>\n",
       "      <td>0</td>\n",
       "      <td>0</td>\n",
       "      <td>0</td>\n",
       "      <td>0</td>\n",
       "      <td>0</td>\n",
       "      <td>0</td>\n",
       "      <td>1</td>\n",
       "    </tr>\n",
       "  </tbody>\n",
       "</table>\n",
       "<p>5 rows × 33 columns</p>\n",
       "</div>"
      ],
      "text/plain": [
       "       userid     event_timestamp  event_label    survey_timestamp  \\\n",
       "2050     1536 2010-06-01 13:01:22            0 2015-05-29 04:10:43   \n",
       "4346    17001 2013-05-16 13:34:24            0 2015-06-06 01:28:58   \n",
       "9999    89397 2013-12-29 21:46:28            0 2015-06-27 07:10:09   \n",
       "13692   68468 2014-01-27 15:09:12            0 2015-07-14 02:16:58   \n",
       "6733   135470 2014-02-05 14:22:45            0 2015-06-14 04:12:46   \n",
       "\n",
       "       survey_question_1 survey_question_2  survey_question_3  \\\n",
       "2050                10.0                 a               10.0   \n",
       "4346                 9.0                 a               10.0   \n",
       "9999                10.0                 a               10.0   \n",
       "13692               10.0                 a               10.0   \n",
       "6733                10.0                 a               10.0   \n",
       "\n",
       "       survey_question_4 month_year survey_month_year  ...  \\\n",
       "2050                   8    2010-06           2015-05  ...   \n",
       "4346                  10    2013-05           2015-06  ...   \n",
       "9999                   8    2013-12           2015-06  ...   \n",
       "13692                  8    2014-01           2015-07  ...   \n",
       "6733                  10    2014-02           2015-06  ...   \n",
       "\n",
       "       survey_question_3_1.0  survey_question_3_2.0  survey_question_3_3.0  \\\n",
       "2050                       0                      0                      0   \n",
       "4346                       0                      0                      0   \n",
       "9999                       0                      0                      0   \n",
       "13692                      0                      0                      0   \n",
       "6733                       0                      0                      0   \n",
       "\n",
       "       survey_question_3_4.0  survey_question_3_5.0  survey_question_3_6.0  \\\n",
       "2050                       0                      0                      0   \n",
       "4346                       0                      0                      0   \n",
       "9999                       0                      0                      0   \n",
       "13692                      0                      0                      0   \n",
       "6733                       0                      0                      0   \n",
       "\n",
       "       survey_question_3_7.0  survey_question_3_8.0  survey_question_3_9.0  \\\n",
       "2050                       0                      0                      0   \n",
       "4346                       0                      0                      0   \n",
       "9999                       0                      0                      0   \n",
       "13692                      0                      0                      0   \n",
       "6733                       0                      0                      0   \n",
       "\n",
       "       survey_question_3_10.0  \n",
       "2050                        1  \n",
       "4346                        1  \n",
       "9999                        1  \n",
       "13692                       1  \n",
       "6733                        1  \n",
       "\n",
       "[5 rows x 33 columns]"
      ]
     },
     "execution_count": 17,
     "metadata": {},
     "output_type": "execute_result"
    }
   ],
   "source": [
    "inactive.head()"
   ]
  },
  {
   "cell_type": "code",
   "execution_count": 18,
   "id": "ba946285",
   "metadata": {
    "scrolled": true
   },
   "outputs": [
    {
     "data": {
      "text/plain": [
       "1    4268\n",
       "0    2159\n",
       "Name: event_label, dtype: int64"
      ]
     },
     "execution_count": 18,
     "metadata": {},
     "output_type": "execute_result"
    }
   ],
   "source": [
    "users['event_label'].value_counts()"
   ]
  },
  {
   "cell_type": "code",
   "execution_count": 19,
   "id": "1d6a5499",
   "metadata": {
    "scrolled": true
   },
   "outputs": [
    {
     "data": {
      "text/plain": [
       "1     403\n",
       "2     454\n",
       "3     432\n",
       "4     425\n",
       "5     417\n",
       "6     405\n",
       "7     405\n",
       "8     433\n",
       "9     474\n",
       "10    420\n",
       "Name: survey_question_4, dtype: int64"
      ]
     },
     "execution_count": 19,
     "metadata": {},
     "output_type": "execute_result"
    }
   ],
   "source": [
    "active['survey_question_4'].value_counts().sort_index()"
   ]
  },
  {
   "cell_type": "code",
   "execution_count": 20,
   "id": "dd9b7a88",
   "metadata": {
    "scrolled": true
   },
   "outputs": [
    {
     "data": {
      "text/plain": [
       "1     226\n",
       "3     187\n",
       "4     251\n",
       "6     194\n",
       "7     197\n",
       "8     205\n",
       "10    899\n",
       "Name: survey_question_4, dtype: int64"
      ]
     },
     "execution_count": 20,
     "metadata": {},
     "output_type": "execute_result"
    }
   ],
   "source": [
    "inactive['survey_question_4'].value_counts().sort_index()"
   ]
  },
  {
   "cell_type": "code",
   "execution_count": 21,
   "id": "2a359d22",
   "metadata": {},
   "outputs": [
    {
     "data": {
      "text/plain": [
       "<AxesSubplot:>"
      ]
     },
     "execution_count": 21,
     "metadata": {},
     "output_type": "execute_result"
    },
    {
     "data": {
      "image/png": "[encoded data removed]",
      "text/plain": [
       "<Figure size 1440x288 with 4 Axes>"
      ]
     },
     "metadata": {
      "needs_background": "light"
     },
     "output_type": "display_data"
    }
   ],
   "source": [
    "fig, axs = plt.subplots(1, 4, figsize=(20, 4), sharey=False)\n",
    "active['survey_question_1'].value_counts().sort_index().plot(ax=axs[0],kind='bar')\n",
    "active['survey_question_2'].value_counts().sort_index().plot(ax=axs[1],kind='bar')\n",
    "active['survey_question_3'].value_counts().sort_index().plot(ax=axs[2],kind='bar')\n",
    "active['survey_question_4'].value_counts().sort_index().plot(ax=axs[3],kind='bar')\n"
   ]
  },
  {
   "cell_type": "code",
   "execution_count": 22,
   "id": "21e934f1",
   "metadata": {},
   "outputs": [
    {
     "data": {
      "text/plain": [
       "<AxesSubplot:>"
      ]
     },
     "execution_count": 22,
     "metadata": {},
     "output_type": "execute_result"
    },
    {
     "data": {
      "image/png": "[encoded data removed]",
      "text/plain": [
       "<Figure size 1440x288 with 4 Axes>"
      ]
     },
     "metadata": {
      "needs_background": "light"
     },
     "output_type": "display_data"
    }
   ],
   "source": [
    "fig, axs = plt.subplots(1, 4, figsize=(20, 4), sharey=False)\n",
    "inactive['survey_question_1'].value_counts().sort_index().plot(ax=axs[0],kind='bar')\n",
    "inactive['survey_question_2'].value_counts().sort_index().plot(ax=axs[1],kind='bar')\n",
    "inactive['survey_question_3'].value_counts().sort_index().plot(ax=axs[2],kind='bar')\n",
    "inactive['survey_question_4'].value_counts().sort_index().plot(ax=axs[3],kind='bar')\n"
   ]
  },
  {
   "cell_type": "code",
   "execution_count": 23,
   "id": "d19dfd07",
   "metadata": {
    "scrolled": false
   },
   "outputs": [
    {
     "data": {
      "text/plain": [
       "<AxesSubplot:>"
      ]
     },
     "execution_count": 23,
     "metadata": {},
     "output_type": "execute_result"
    },
    {
     "data": {
      "image/png": "[encoded data removed]",
      "text/plain": [
       "<Figure size 432x288 with 1 Axes>"
      ]
     },
     "metadata": {
      "needs_background": "light"
     },
     "output_type": "display_data"
    }
   ],
   "source": [
    "s = users['month_year'].value_counts().sort_index()\n",
    "s.plot()"
   ]
  },
  {
   "cell_type": "code",
   "execution_count": 24,
   "id": "44882c2a",
   "metadata": {},
   "outputs": [
    {
     "data": {
      "text/plain": [
       "Period('2015-06', 'M')"
      ]
     },
     "execution_count": 24,
     "metadata": {},
     "output_type": "execute_result"
    }
   ],
   "source": [
    "s.idxmax()"
   ]
  },
  {
   "cell_type": "code",
   "execution_count": 25,
   "id": "519ba892",
   "metadata": {
    "scrolled": false
   },
   "outputs": [
    {
     "name": "stderr",
     "output_type": "stream",
     "text": [
      "C:\\Users\\jeffr\\AppData\\Local\\Temp\\ipykernel_41100\\1491552270.py:1: SettingWithCopyWarning: \n",
      "A value is trying to be set on a copy of a slice from a DataFrame.\n",
      "Try using .loc[row_indexer,col_indexer] = value instead\n",
      "\n",
      "See the caveats in the documentation: https://pandas.pydata.org/pandas-docs/stable/user_guide/indexing.html#returning-a-view-versus-a-copy\n",
      "  active['month_year'] = active['event_timestamp'].dt.to_period('M')\n"
     ]
    },
    {
     "data": {
      "text/plain": [
       "<AxesSubplot:>"
      ]
     },
     "execution_count": 25,
     "metadata": {},
     "output_type": "execute_result"
    },
    {
     "data": {
      "image/png": "[encoded data removed]",
      "text/plain": [
       "<Figure size 432x288 with 1 Axes>"
      ]
     },
     "metadata": {
      "needs_background": "light"
     },
     "output_type": "display_data"
    }
   ],
   "source": [
    "active['month_year'] = active['event_timestamp'].dt.to_period('M')\n",
    "a = active['month_year'].value_counts().sort_index()\n",
    "a.plot()"
   ]
  },
  {
   "cell_type": "code",
   "execution_count": 26,
   "id": "42789dd6",
   "metadata": {
    "scrolled": false
   },
   "outputs": [
    {
     "name": "stderr",
     "output_type": "stream",
     "text": [
      "C:\\Users\\jeffr\\AppData\\Local\\Temp\\ipykernel_41100\\922915170.py:1: SettingWithCopyWarning: \n",
      "A value is trying to be set on a copy of a slice from a DataFrame.\n",
      "Try using .loc[row_indexer,col_indexer] = value instead\n",
      "\n",
      "See the caveats in the documentation: https://pandas.pydata.org/pandas-docs/stable/user_guide/indexing.html#returning-a-view-versus-a-copy\n",
      "  inactive['month_year'] = inactive['event_timestamp'].dt.to_period('M')\n"
     ]
    },
    {
     "data": {
      "text/plain": [
       "<AxesSubplot:>"
      ]
     },
     "execution_count": 26,
     "metadata": {},
     "output_type": "execute_result"
    },
    {
     "data": {
      "image/png": "[encoded data removed]",
      "text/plain": [
       "<Figure size 432x288 with 1 Axes>"
      ]
     },
     "metadata": {
      "needs_background": "light"
     },
     "output_type": "display_data"
    }
   ],
   "source": [
    "inactive['month_year'] = inactive['event_timestamp'].dt.to_period('M')\n",
    "i = inactive['month_year'].value_counts().sort_index()\n",
    "i.plot()"
   ]
  },
  {
   "cell_type": "markdown",
   "id": "bef5f342",
   "metadata": {},
   "source": [
    "### There is a clear divide between the active and inactive users at July 2015 where there are more active users before that date and more inactive users after that date. So I created a new predictor called before7_15 where it is marked as 1 if the event_timestamp is before July 2015 and 0 otherwise. "
   ]
  },
  {
   "cell_type": "code",
   "execution_count": 27,
   "id": "5c592e8e",
   "metadata": {},
   "outputs": [],
   "source": [
    "target_date = pd.to_datetime(datetime.date(2015, 7, 1))\n",
    "users['before7_15'] = users['event_timestamp'] < target_date\n",
    "users['before7_15'] = users['before7_15'].map({True:1, False:0})"
   ]
  },
  {
   "cell_type": "code",
   "execution_count": 28,
   "id": "70c2b986",
   "metadata": {},
   "outputs": [
    {
     "name": "stdout",
     "output_type": "stream",
     "text": [
      "2015-06 2015-06\n"
     ]
    }
   ],
   "source": [
    "print(s.idxmax(),a.idxmax())"
   ]
  },
  {
   "cell_type": "markdown",
   "id": "1fe46b3d",
   "metadata": {},
   "source": [
    "### Taking a look at survey_timestamp, there is no discernable difference between active and inactive users so I don't do anything with it. "
   ]
  },
  {
   "cell_type": "code",
   "execution_count": 29,
   "id": "c6ade5f4",
   "metadata": {
    "scrolled": false
   },
   "outputs": [
    {
     "data": {
      "text/plain": [
       "<AxesSubplot:>"
      ]
     },
     "execution_count": 29,
     "metadata": {},
     "output_type": "execute_result"
    },
    {
     "data": {
      "image/png": "[encoded data removed]",
      "text/plain": [
       "<Figure size 432x288 with 1 Axes>"
      ]
     },
     "metadata": {
      "needs_background": "light"
     },
     "output_type": "display_data"
    }
   ],
   "source": [
    "d = users['survey_month_year'].value_counts().sort_index()\n",
    "d.plot()"
   ]
  },
  {
   "cell_type": "code",
   "execution_count": 30,
   "id": "e66e4a26",
   "metadata": {},
   "outputs": [
    {
     "data": {
      "text/plain": [
       "<AxesSubplot:>"
      ]
     },
     "execution_count": 30,
     "metadata": {},
     "output_type": "execute_result"
    },
    {
     "data": {
      "image/png": "[encoded data removed]",
      "text/plain": [
       "<Figure size 432x288 with 1 Axes>"
      ]
     },
     "metadata": {
      "needs_background": "light"
     },
     "output_type": "display_data"
    }
   ],
   "source": [
    "d = active['survey_month_year'].value_counts().sort_index()\n",
    "d.plot()"
   ]
  },
  {
   "cell_type": "code",
   "execution_count": 31,
   "id": "2bd03dea",
   "metadata": {},
   "outputs": [
    {
     "data": {
      "text/plain": [
       "<AxesSubplot:>"
      ]
     },
     "execution_count": 31,
     "metadata": {},
     "output_type": "execute_result"
    },
    {
     "data": {
      "image/png": "[encoded data removed]",
      "text/plain": [
       "<Figure size 432x288 with 1 Axes>"
      ]
     },
     "metadata": {
      "needs_background": "light"
     },
     "output_type": "display_data"
    }
   ],
   "source": [
    "d = inactive['survey_month_year'].value_counts().sort_index()\n",
    "d.plot()"
   ]
  },
  {
   "cell_type": "code",
   "execution_count": 32,
   "id": "d7030521",
   "metadata": {
    "scrolled": false
   },
   "outputs": [
    {
     "data": {
      "text/plain": [
       "Index(['userid', 'event_timestamp', 'event_label', 'survey_timestamp',\n",
       "       'survey_question_1', 'survey_question_2', 'survey_question_3',\n",
       "       'survey_question_4', 'month_year', 'survey_month_year',\n",
       "       'survey_question_1_1.0', 'survey_question_1_2.0',\n",
       "       'survey_question_1_3.0', 'survey_question_1_4.0',\n",
       "       'survey_question_1_5.0', 'survey_question_1_6.0',\n",
       "       'survey_question_1_7.0', 'survey_question_1_8.0',\n",
       "       'survey_question_1_9.0', 'survey_question_1_10.0',\n",
       "       'survey_question_2_a', 'survey_question_2_b', 'survey_question_2_c',\n",
       "       'survey_question_3_1.0', 'survey_question_3_2.0',\n",
       "       'survey_question_3_3.0', 'survey_question_3_4.0',\n",
       "       'survey_question_3_5.0', 'survey_question_3_6.0',\n",
       "       'survey_question_3_7.0', 'survey_question_3_8.0',\n",
       "       'survey_question_3_9.0', 'survey_question_3_10.0', 'before7_15'],\n",
       "      dtype='object')"
      ]
     },
     "execution_count": 32,
     "metadata": {},
     "output_type": "execute_result"
    }
   ],
   "source": [
    "users.columns"
   ]
  },
  {
   "cell_type": "code",
   "execution_count": 33,
   "id": "f2db1c6a",
   "metadata": {},
   "outputs": [],
   "source": [
    "# create predictors dataframe for training\n",
    "users_train = users.drop(['userid', 'event_timestamp', 'survey_timestamp', 'event_label', 'survey_question_1', 'survey_question_2', 'survey_question_3', 'month_year', 'survey_month_year'], axis = 1)"
   ]
  },
  {
   "cell_type": "code",
   "execution_count": 34,
   "id": "1b28f2ec",
   "metadata": {
    "scrolled": true
   },
   "outputs": [
    {
     "data": {
      "text/plain": [
       "Index(['survey_question_4', 'survey_question_1_1.0', 'survey_question_1_2.0',\n",
       "       'survey_question_1_3.0', 'survey_question_1_4.0',\n",
       "       'survey_question_1_5.0', 'survey_question_1_6.0',\n",
       "       'survey_question_1_7.0', 'survey_question_1_8.0',\n",
       "       'survey_question_1_9.0', 'survey_question_1_10.0',\n",
       "       'survey_question_2_a', 'survey_question_2_b', 'survey_question_2_c',\n",
       "       'survey_question_3_1.0', 'survey_question_3_2.0',\n",
       "       'survey_question_3_3.0', 'survey_question_3_4.0',\n",
       "       'survey_question_3_5.0', 'survey_question_3_6.0',\n",
       "       'survey_question_3_7.0', 'survey_question_3_8.0',\n",
       "       'survey_question_3_9.0', 'survey_question_3_10.0', 'before7_15'],\n",
       "      dtype='object')"
      ]
     },
     "execution_count": 34,
     "metadata": {},
     "output_type": "execute_result"
    }
   ],
   "source": [
    "users_train.columns"
   ]
  },
  {
   "cell_type": "code",
   "execution_count": 35,
   "id": "3d18cdc8",
   "metadata": {},
   "outputs": [],
   "source": [
    "# training and test split done here\n",
    "x_train, x_test, y_train, y_test = train_test_split(users_train, users['event_label'], test_size=0.20, random_state=0)"
   ]
  },
  {
   "cell_type": "code",
   "execution_count": 36,
   "id": "f1643ecc",
   "metadata": {},
   "outputs": [],
   "source": [
    "x_test.to_csv(\"x_test.csv\")\n",
    "y_test.to_csv(\"y_test.csv\")"
   ]
  },
  {
   "cell_type": "markdown",
   "id": "e44dcc97",
   "metadata": {},
   "source": [
    "## Let's first try logistic regression since it's a natural choice for binary classification."
   ]
  },
  {
   "cell_type": "code",
   "execution_count": 37,
   "id": "2fc9fcd5",
   "metadata": {},
   "outputs": [
    {
     "data": {
      "text/plain": [
       "LogisticRegression(max_iter=1000)"
      ]
     },
     "execution_count": 37,
     "metadata": {},
     "output_type": "execute_result"
    }
   ],
   "source": [
    "model = LogisticRegression(max_iter = 1000)\n",
    "model.fit(x_train, y_train)"
   ]
  },
  {
   "cell_type": "code",
   "execution_count": 38,
   "id": "d99dec6d",
   "metadata": {},
   "outputs": [],
   "source": [
    "y_pred = pd.Series(model.predict(x_test))"
   ]
  },
  {
   "cell_type": "code",
   "execution_count": 39,
   "id": "8a710d8c",
   "metadata": {},
   "outputs": [
    {
     "data": {
      "text/html": [
       "<div>\n",
       "<style scoped>\n",
       "    .dataframe tbody tr th:only-of-type {\n",
       "        vertical-align: middle;\n",
       "    }\n",
       "\n",
       "    .dataframe tbody tr th {\n",
       "        vertical-align: top;\n",
       "    }\n",
       "\n",
       "    .dataframe thead th {\n",
       "        text-align: right;\n",
       "    }\n",
       "</style>\n",
       "<table border=\"1\" class=\"dataframe\">\n",
       "  <thead>\n",
       "    <tr style=\"text-align: right;\">\n",
       "      <th></th>\n",
       "      <th>True</th>\n",
       "      <th>Prediction</th>\n",
       "    </tr>\n",
       "  </thead>\n",
       "  <tbody>\n",
       "    <tr>\n",
       "      <th>0</th>\n",
       "      <td>1</td>\n",
       "      <td>1</td>\n",
       "    </tr>\n",
       "    <tr>\n",
       "      <th>1</th>\n",
       "      <td>1</td>\n",
       "      <td>1</td>\n",
       "    </tr>\n",
       "    <tr>\n",
       "      <th>2</th>\n",
       "      <td>0</td>\n",
       "      <td>1</td>\n",
       "    </tr>\n",
       "    <tr>\n",
       "      <th>3</th>\n",
       "      <td>0</td>\n",
       "      <td>1</td>\n",
       "    </tr>\n",
       "    <tr>\n",
       "      <th>4</th>\n",
       "      <td>1</td>\n",
       "      <td>1</td>\n",
       "    </tr>\n",
       "  </tbody>\n",
       "</table>\n",
       "</div>"
      ],
      "text/plain": [
       "   True  Prediction\n",
       "0     1           1\n",
       "1     1           1\n",
       "2     0           1\n",
       "3     0           1\n",
       "4     1           1"
      ]
     },
     "execution_count": 39,
     "metadata": {},
     "output_type": "execute_result"
    }
   ],
   "source": [
    "y_test = y_test.reset_index(drop=True)\n",
    "z = pd.concat([y_test, y_pred], axis=1)\n",
    "z.columns = ['True', 'Prediction']\n",
    "z.head()"
   ]
  },
  {
   "cell_type": "code",
   "execution_count": 40,
   "id": "b3d66aa1",
   "metadata": {
    "scrolled": false
   },
   "outputs": [
    {
     "data": {
      "text/plain": [
       "<sklearn.metrics._plot.confusion_matrix.ConfusionMatrixDisplay at 0x25f380407f0>"
      ]
     },
     "execution_count": 40,
     "metadata": {},
     "output_type": "execute_result"
    },
    {
     "data": {
      "image/png": "[encoded data removed]",
      "text/plain": [
       "<Figure size 432x288 with 2 Axes>"
      ]
     },
     "metadata": {
      "needs_background": "light"
     },
     "output_type": "display_data"
    }
   ],
   "source": [
    "ConfusionMatrixDisplay.from_predictions(y_test, y_pred)"
   ]
  },
  {
   "cell_type": "code",
   "execution_count": 41,
   "id": "66047b55",
   "metadata": {},
   "outputs": [
    {
     "name": "stdout",
     "output_type": "stream",
     "text": [
      "Accuracy: 0.7791601866251944\n",
      "Precision: 0.8741808650065531\n",
      "Recall: 0.7801169590643274\n"
     ]
    }
   ],
   "source": [
    "print(\"Accuracy:\", metrics.accuracy_score(y_test, y_pred))\n",
    "print(\"Precision:\", metrics.precision_score(y_test, y_pred))\n",
    "print(\"Recall:\", metrics.recall_score(y_test, y_pred))"
   ]
  },
  {
   "cell_type": "code",
   "execution_count": 42,
   "id": "6860b292",
   "metadata": {},
   "outputs": [
    {
     "data": {
      "text/plain": [
       "Index(['survey_question_1_2.0', 'survey_question_3_9.0', 'before7_15'], dtype='object')"
      ]
     },
     "execution_count": 42,
     "metadata": {},
     "output_type": "execute_result"
    }
   ],
   "source": [
    "sel = SelectFromModel(model)\n",
    "sel.fit(x_train, y_train)\n",
    "selected_feat= x_train.columns[(sel.get_support())]\n",
    "selected_feat"
   ]
  },
  {
   "cell_type": "code",
   "execution_count": 43,
   "id": "30774f8e",
   "metadata": {},
   "outputs": [
    {
     "name": "stdout",
     "output_type": "stream",
     "text": [
      "Accuracy: 0.768 (0.019)\n"
     ]
    }
   ],
   "source": [
    "# Logistic Regression Cross Validation\n",
    "from sklearn.model_selection import cross_validate\n",
    "from sklearn.model_selection import KFold\n",
    "from sklearn.model_selection import cross_val_score\n",
    "from numpy import mean\n",
    "from numpy import std\n",
    "\n",
    "#cv_results = cross_validate(d_tree, users_train, users['event_label'], scoring = 'f1', cv=10)\n",
    "#cv_results\n",
    "\n",
    "cv = KFold(n_splits=10, random_state=0, shuffle=True)\n",
    "\n",
    "# evaluate model\n",
    "scores = cross_val_score(model, users_train, users['event_label'], scoring='accuracy', cv=cv, n_jobs=-1)\n",
    "# report performance\n",
    "print('Accuracy: %.3f (%.3f)' % (mean(scores), std(scores)))"
   ]
  },
  {
   "cell_type": "markdown",
   "id": "a4714637",
   "metadata": {},
   "source": [
    "### We get a cross-validated accuracy of 0.768, which is decent. Precision and recall values are also good at 0.876 and 0.781, respectively."
   ]
  },
  {
   "cell_type": "markdown",
   "id": "ea01f5bc",
   "metadata": {},
   "source": [
    "# Trying Decision Tree now"
   ]
  },
  {
   "cell_type": "markdown",
   "id": "a62bdeea",
   "metadata": {},
   "source": [
    "I ended up choosing a max_depth of 5 because anything around 10 or above saw a decrease in accuracy. Anything below 5 showed similar performance to 5 but felt too restrictive for future datasets."
   ]
  },
  {
   "cell_type": "code",
   "execution_count": 44,
   "id": "6ca6d262",
   "metadata": {},
   "outputs": [],
   "source": [
    "d_tree = tree.DecisionTreeClassifier(max_depth = 5)\n",
    "d_tree = d_tree.fit(x_train, y_train)"
   ]
  },
  {
   "cell_type": "code",
   "execution_count": 45,
   "id": "aa9c8fde",
   "metadata": {
    "scrolled": false
   },
   "outputs": [
    {
     "data": {
      "text/html": [
       "<div>\n",
       "<style scoped>\n",
       "    .dataframe tbody tr th:only-of-type {\n",
       "        vertical-align: middle;\n",
       "    }\n",
       "\n",
       "    .dataframe tbody tr th {\n",
       "        vertical-align: top;\n",
       "    }\n",
       "\n",
       "    .dataframe thead th {\n",
       "        text-align: right;\n",
       "    }\n",
       "</style>\n",
       "<table border=\"1\" class=\"dataframe\">\n",
       "  <thead>\n",
       "    <tr style=\"text-align: right;\">\n",
       "      <th></th>\n",
       "      <th>True</th>\n",
       "      <th>Prediction</th>\n",
       "    </tr>\n",
       "  </thead>\n",
       "  <tbody>\n",
       "    <tr>\n",
       "      <th>0</th>\n",
       "      <td>1</td>\n",
       "      <td>1</td>\n",
       "    </tr>\n",
       "    <tr>\n",
       "      <th>1</th>\n",
       "      <td>1</td>\n",
       "      <td>1</td>\n",
       "    </tr>\n",
       "    <tr>\n",
       "      <th>2</th>\n",
       "      <td>0</td>\n",
       "      <td>1</td>\n",
       "    </tr>\n",
       "    <tr>\n",
       "      <th>3</th>\n",
       "      <td>0</td>\n",
       "      <td>1</td>\n",
       "    </tr>\n",
       "    <tr>\n",
       "      <th>4</th>\n",
       "      <td>1</td>\n",
       "      <td>1</td>\n",
       "    </tr>\n",
       "  </tbody>\n",
       "</table>\n",
       "</div>"
      ],
      "text/plain": [
       "   True  Prediction\n",
       "0     1           1\n",
       "1     1           1\n",
       "2     0           1\n",
       "3     0           1\n",
       "4     1           1"
      ]
     },
     "execution_count": 45,
     "metadata": {},
     "output_type": "execute_result"
    }
   ],
   "source": [
    "tree_y_pred = pd.Series(d_tree.predict(x_test))\n",
    "tree_y_test = y_test.reset_index(drop=True)\n",
    "tree_z = pd.concat([tree_y_test, tree_y_pred], axis=1)\n",
    "tree_z.columns = ['True', 'Prediction']\n",
    "tree_z.head()"
   ]
  },
  {
   "cell_type": "code",
   "execution_count": 46,
   "id": "c774101e",
   "metadata": {
    "scrolled": true
   },
   "outputs": [
    {
     "data": {
      "text/plain": [
       "<sklearn.metrics._plot.confusion_matrix.ConfusionMatrixDisplay at 0x25f37f283a0>"
      ]
     },
     "execution_count": 46,
     "metadata": {},
     "output_type": "execute_result"
    },
    {
     "data": {
      "image/png": "[encoded data removed]",
      "text/plain": [
       "<Figure size 432x288 with 2 Axes>"
      ]
     },
     "metadata": {
      "needs_background": "light"
     },
     "output_type": "display_data"
    }
   ],
   "source": [
    "ConfusionMatrixDisplay.from_predictions(tree_y_test, tree_y_pred)"
   ]
  },
  {
   "cell_type": "code",
   "execution_count": 47,
   "id": "339c0c52",
   "metadata": {},
   "outputs": [
    {
     "name": "stdout",
     "output_type": "stream",
     "text": [
      "Accuracy: 0.8133748055987559\n",
      "Precision: 0.9610194902548725\n",
      "Recall: 0.7497076023391813\n"
     ]
    }
   ],
   "source": [
    "print(\"Accuracy:\", metrics.accuracy_score(tree_y_test, tree_y_pred))\n",
    "print(\"Precision:\", metrics.precision_score(tree_y_test, tree_y_pred))\n",
    "print(\"Recall:\", metrics.recall_score(tree_y_test, tree_y_pred))"
   ]
  },
  {
   "cell_type": "code",
   "execution_count": 48,
   "id": "c8b4bca3",
   "metadata": {
    "scrolled": true
   },
   "outputs": [
    {
     "name": "stdout",
     "output_type": "stream",
     "text": [
      "Accuracy: 0.810 (0.013)\n"
     ]
    }
   ],
   "source": [
    "from sklearn.model_selection import cross_validate\n",
    "from sklearn.model_selection import KFold\n",
    "from sklearn.model_selection import cross_val_score\n",
    "from numpy import mean\n",
    "from numpy import std\n",
    "\n",
    "#cv_results = cross_validate(d_tree, users_train, users['event_label'], scoring = 'f1', cv=10)\n",
    "#cv_results\n",
    "\n",
    "cv = KFold(n_splits=10, random_state=0, shuffle=True)\n",
    "\n",
    "# evaluate model\n",
    "scores = cross_val_score(d_tree, users_train, users['event_label'], scoring='accuracy', cv=cv, n_jobs=-1)\n",
    "# report performance\n",
    "print('Accuracy: %.3f (%.3f)' % (mean(scores), std(scores)))"
   ]
  },
  {
   "cell_type": "markdown",
   "id": "9f9dd919",
   "metadata": {},
   "source": [
    "### Now with a decision tree, we get an accuracy of 0.810 which is better than our logistic regression model. And precision and recall values are still decent at 0.954 and 0.755."
   ]
  },
  {
   "cell_type": "markdown",
   "id": "6af2b9ef",
   "metadata": {},
   "source": [
    "# Trying a Random Forest model now"
   ]
  },
  {
   "cell_type": "code",
   "execution_count": 49,
   "id": "f671ff6c",
   "metadata": {},
   "outputs": [
    {
     "data": {
      "text/plain": [
       "RandomForestClassifier(max_depth=5, max_features='sqrt', min_samples_leaf=8,\n",
       "                       n_estimators=600, random_state=0)"
      ]
     },
     "execution_count": 49,
     "metadata": {},
     "output_type": "execute_result"
    }
   ],
   "source": [
    "rf = RandomForestClassifier(n_estimators = 600,\n",
    " min_samples_split = 2,\n",
    " min_samples_leaf = 8,\n",
    " max_features = 'sqrt',\n",
    " max_depth = 5,\n",
    " bootstrap = True, random_state=0)\n",
    "rf.fit(x_train, y_train)\n"
   ]
  },
  {
   "cell_type": "code",
   "execution_count": 50,
   "id": "d42034a5",
   "metadata": {},
   "outputs": [
    {
     "data": {
      "text/html": [
       "<div>\n",
       "<style scoped>\n",
       "    .dataframe tbody tr th:only-of-type {\n",
       "        vertical-align: middle;\n",
       "    }\n",
       "\n",
       "    .dataframe tbody tr th {\n",
       "        vertical-align: top;\n",
       "    }\n",
       "\n",
       "    .dataframe thead th {\n",
       "        text-align: right;\n",
       "    }\n",
       "</style>\n",
       "<table border=\"1\" class=\"dataframe\">\n",
       "  <thead>\n",
       "    <tr style=\"text-align: right;\">\n",
       "      <th></th>\n",
       "      <th>True</th>\n",
       "      <th>Prediction</th>\n",
       "    </tr>\n",
       "  </thead>\n",
       "  <tbody>\n",
       "    <tr>\n",
       "      <th>0</th>\n",
       "      <td>1</td>\n",
       "      <td>1</td>\n",
       "    </tr>\n",
       "    <tr>\n",
       "      <th>1</th>\n",
       "      <td>1</td>\n",
       "      <td>1</td>\n",
       "    </tr>\n",
       "    <tr>\n",
       "      <th>2</th>\n",
       "      <td>0</td>\n",
       "      <td>1</td>\n",
       "    </tr>\n",
       "    <tr>\n",
       "      <th>3</th>\n",
       "      <td>0</td>\n",
       "      <td>1</td>\n",
       "    </tr>\n",
       "    <tr>\n",
       "      <th>4</th>\n",
       "      <td>1</td>\n",
       "      <td>1</td>\n",
       "    </tr>\n",
       "  </tbody>\n",
       "</table>\n",
       "</div>"
      ],
      "text/plain": [
       "   True  Prediction\n",
       "0     1           1\n",
       "1     1           1\n",
       "2     0           1\n",
       "3     0           1\n",
       "4     1           1"
      ]
     },
     "execution_count": 50,
     "metadata": {},
     "output_type": "execute_result"
    }
   ],
   "source": [
    "y_pred = pd.Series(rf.predict(x_test))\n",
    "y_test = y_test.reset_index(drop=True)\n",
    "z = pd.concat([y_test, y_pred], axis=1)\n",
    "z.columns = ['True', 'Prediction']\n",
    "z.head()"
   ]
  },
  {
   "cell_type": "code",
   "execution_count": 51,
   "id": "c62f9276",
   "metadata": {},
   "outputs": [
    {
     "name": "stdout",
     "output_type": "stream",
     "text": [
      "Accuracy: 0.78149300155521\n",
      "Precision: 0.7677238805970149\n",
      "Recall: 0.9625730994152046\n"
     ]
    }
   ],
   "source": [
    "# with only question 2 dummy variables\n",
    "print(\"Accuracy:\", metrics.accuracy_score(y_test, y_pred))\n",
    "print(\"Precision:\", metrics.precision_score(y_test, y_pred))\n",
    "print(\"Recall:\", metrics.recall_score(y_test, y_pred))"
   ]
  },
  {
   "cell_type": "code",
   "execution_count": 52,
   "id": "9cafa278",
   "metadata": {
    "scrolled": true
   },
   "outputs": [
    {
     "data": {
      "text/plain": [
       "<sklearn.metrics._plot.confusion_matrix.ConfusionMatrixDisplay at 0x25f381e9610>"
      ]
     },
     "execution_count": 52,
     "metadata": {},
     "output_type": "execute_result"
    },
    {
     "data": {
      "image/png": "[encoded data removed]",
      "text/plain": [
       "<Figure size 432x288 with 2 Axes>"
      ]
     },
     "metadata": {
      "needs_background": "light"
     },
     "output_type": "display_data"
    }
   ],
   "source": [
    "ConfusionMatrixDisplay.from_predictions(y_test, y_pred)"
   ]
  },
  {
   "cell_type": "code",
   "execution_count": 53,
   "id": "daca1f21",
   "metadata": {},
   "outputs": [
    {
     "name": "stdout",
     "output_type": "stream",
     "text": [
      "Accuracy: 0.775 (0.023)\n"
     ]
    }
   ],
   "source": [
    "cv = KFold(n_splits=10, random_state=0, shuffle=True)\n",
    "# create model\n",
    "model = LogisticRegression()\n",
    "# evaluate model\n",
    "scores = cross_val_score(rf, users_train, users['event_label'], scoring='accuracy', cv=cv, n_jobs=-1)\n",
    "# report performance\n",
    "print('Accuracy: %.3f (%.3f)' % (mean(scores), std(scores)))"
   ]
  },
  {
   "cell_type": "markdown",
   "id": "627a55c5",
   "metadata": {},
   "source": [
    "### Our random forest model does not perform as well as the decision tree for this dataset. This is most likely due to the relatively small number of important predictors. \n",
    "### A random forest takes samples of the training data as well as samples of the predictors to train, but this is an issue if there are not a high enough number of predictors to sample from."
   ]
  },
  {
   "cell_type": "code",
   "execution_count": 54,
   "id": "c8cff8f0",
   "metadata": {
    "scrolled": true
   },
   "outputs": [
    {
     "data": {
      "text/plain": [
       "SelectFromModel(estimator=RandomForestClassifier(max_depth=5,\n",
       "                                                 max_features='sqrt',\n",
       "                                                 min_samples_leaf=8,\n",
       "                                                 n_estimators=600))"
      ]
     },
     "execution_count": 54,
     "metadata": {},
     "output_type": "execute_result"
    }
   ],
   "source": [
    "sel = SelectFromModel(RandomForestClassifier(n_estimators = 600,\n",
    " min_samples_split = 2,\n",
    " min_samples_leaf = 8,\n",
    " max_features = 'sqrt',\n",
    " max_depth = 5,\n",
    " bootstrap = True))\n",
    "sel.fit(x_train, y_train)"
   ]
  },
  {
   "cell_type": "code",
   "execution_count": 55,
   "id": "9df83f51",
   "metadata": {},
   "outputs": [
    {
     "data": {
      "text/plain": [
       "Index(['survey_question_4', 'before7_15'], dtype='object')"
      ]
     },
     "execution_count": 55,
     "metadata": {},
     "output_type": "execute_result"
    }
   ],
   "source": [
    "sel = SelectFromModel(rf)\n",
    "sel.fit(x_train, y_train)\n",
    "selected_feat= x_train.columns[(sel.get_support())]\n",
    "selected_feat"
   ]
  },
  {
   "cell_type": "markdown",
   "id": "7a793445",
   "metadata": {},
   "source": [
    "# The decision tree is our best performing model between logistic regression, d-tree, and random forests. The final model deems survey_question_4 and before7_15 as the most important predictors"
   ]
  },
  {
   "cell_type": "code",
   "execution_count": 56,
   "id": "d02a946d",
   "metadata": {},
   "outputs": [
    {
     "data": {
      "text/plain": [
       "Index(['survey_question_4', 'before7_15'], dtype='object')"
      ]
     },
     "execution_count": 56,
     "metadata": {},
     "output_type": "execute_result"
    }
   ],
   "source": [
    "sel = SelectFromModel(d_tree)\n",
    "sel.fit(x_train, y_train)\n",
    "selected_feat= x_train.columns[(sel.get_support())]\n",
    "selected_feat"
   ]
  },
  {
   "cell_type": "markdown",
   "id": "61df0732",
   "metadata": {},
   "source": [
    "The following chunks are hyperparameter tuning for the randomforest model. The best parameters ended up being \n",
    "{'n_estimators': 600,\n",
    " 'min_samples_split': 2,\n",
    " 'min_samples_leaf': 8,\n",
    " 'max_features': 'sqrt',\n",
    " 'max_depth': 5,\n",
    " 'bootstrap': True}"
   ]
  },
  {
   "cell_type": "code",
   "execution_count": 57,
   "id": "4aed7267",
   "metadata": {},
   "outputs": [
    {
     "name": "stdout",
     "output_type": "stream",
     "text": [
      "{'bootstrap': [True, False],\n",
      " 'max_depth': [2, 3, 4, 5, 6, 7, 8, 9, 11, None],\n",
      " 'max_features': ['auto', 'sqrt'],\n",
      " 'min_samples_leaf': [1, 4, 8],\n",
      " 'min_samples_split': [2, 5, 10],\n",
      " 'n_estimators': [200, 400, 600, 800, 1000, 1200, 1400, 1600, 1800, 2000]}\n"
     ]
    }
   ],
   "source": [
    "from sklearn.model_selection import RandomizedSearchCV\n",
    "import pprint\n",
    "pp = pprint.PrettyPrinter()\n",
    "# Number of trees in random forest\n",
    "n_estimators = [int(x) for x in np.linspace(start = 200, stop = 2000, num = 10)]\n",
    "# Number of features to consider at every split\n",
    "max_features = ['auto', 'sqrt']\n",
    "# Maximum number of levels in tree\n",
    "max_depth = [int(x) for x in np.linspace(2, 11, num = 9)]\n",
    "max_depth.append(None)\n",
    "# Minimum number of samples required to split a node\n",
    "min_samples_split = [2, 5, 10]\n",
    "# Minimum number of samples required at each leaf node\n",
    "min_samples_leaf = [1, 4, 8]\n",
    "# Method of selecting samples for training each tree\n",
    "bootstrap = [True, False]\n",
    "# Create the random grid\n",
    "random_grid = {'n_estimators': n_estimators,\n",
    "               'max_features': max_features,\n",
    "               'max_depth': max_depth,\n",
    "               'min_samples_split': min_samples_split,\n",
    "               'min_samples_leaf': min_samples_leaf,\n",
    "               'bootstrap': bootstrap}\n",
    "pp.pprint(random_grid)"
   ]
  },
  {
   "cell_type": "code",
   "execution_count": null,
   "id": "d777ba7b",
   "metadata": {},
   "outputs": [
    {
     "name": "stdout",
     "output_type": "stream",
     "text": [
      "Fitting 3 folds for each of 100 candidates, totalling 300 fits\n"
     ]
    }
   ],
   "source": [
    "# Use the random grid to search for best hyperparameters\n",
    "# First create the base model to tune\n",
    "rf = RandomForestClassifier()\n",
    "# Random search of parameters, using 3 fold cross validation, \n",
    "# search across 100 different combinations, and use all available cores\n",
    "rf_random = RandomizedSearchCV(estimator = rf, param_distributions = random_grid, n_iter = 100, cv = 3, verbose=2, random_state=0, n_jobs = -1)\n",
    "# Fit the random search model\n",
    "rf_random.fit(x_train, y_train)"
   ]
  },
  {
   "cell_type": "code",
   "execution_count": null,
   "id": "5da8baee",
   "metadata": {
    "scrolled": false
   },
   "outputs": [],
   "source": [
    "rf_random.best_params_"
   ]
  },
  {
   "cell_type": "code",
   "execution_count": null,
   "id": "4928edb9",
   "metadata": {},
   "outputs": [],
   "source": [
    "#base_y_pred = pd.Series(base_model.predict(x_test))\n",
    "#random_y_pred = pd.Series(rf_random.best_estimator_.predict(x_test))"
   ]
  },
  {
   "cell_type": "code",
   "execution_count": null,
   "id": "301c639b",
   "metadata": {},
   "outputs": [],
   "source": [
    "print(\"Accuracy:\", metrics.accuracy_score(y_test, base_y_pred))\n",
    "print(\"Precision:\", metrics.precision_score(y_test, base_y_pred))\n",
    "print(\"Recall:\", metrics.recall_score(y_test, base_y_pred))"
   ]
  },
  {
   "cell_type": "code",
   "execution_count": null,
   "id": "97b34bb9",
   "metadata": {},
   "outputs": [],
   "source": [
    "print(\"Accuracy:\", metrics.accuracy_score(y_test, random_y_pred))\n",
    "print(\"Precision:\", metrics.precision_score(y_test, random_y_pred))\n",
    "print(\"Recall:\", metrics.recall_score(y_test, random_y_pred))"
   ]
  },
  {
   "cell_type": "code",
   "execution_count": null,
   "id": "31ab4f30",
   "metadata": {},
   "outputs": [],
   "source": [
    "from sklearn.model_selection import GridSearchCV\n",
    "# Create the parameter grid based on the results of random search \n",
    "'''\n",
    "param_grid = {\n",
    "    'bootstrap': [True],\n",
    "    'max_depth': [3, 5, 6],\n",
    "    'max_features': ['sqrt'],\n",
    "    'min_samples_leaf': [3, 4, 5],\n",
    "    'min_samples_split': [1, 2, 5],\n",
    "    'n_estimators': [100, 400, 700, 1000]\n",
    "}\n",
    "# Create a based model\n",
    "rf = RandomForestClassifier()\n",
    "# Instantiate the grid search model\n",
    "grid_search = GridSearchCV(estimator = rf, param_grid = param_grid, \n",
    "                          cv = 3, n_jobs = -1, verbose = 2)\n",
    "'''"
   ]
  },
  {
   "cell_type": "code",
   "execution_count": null,
   "id": "5c89ac39",
   "metadata": {
    "scrolled": true
   },
   "outputs": [],
   "source": [
    "'''\n",
    "grid_search.fit(x_train, y_train)\n",
    "grid_search.best_params_\n",
    "'''\n"
   ]
  },
  {
   "cell_type": "code",
   "execution_count": null,
   "id": "1a42cb60",
   "metadata": {},
   "outputs": [],
   "source": [
    "'''\n",
    "best_grid = grid_search.best_estimator_\n",
    "best_y_pred = pd.Series(grid_search.best_estimator_.predict(x_test))\n",
    "print(\"Accuracy:\", metrics.accuracy_score(y_test, best_y_pred))\n",
    "'''"
   ]
  }
 ],
 "metadata": {
  "kernelspec": {
   "display_name": "Python 3 (ipykernel)",
   "language": "python",
   "name": "python3"
  },
  "language_info": {
   "codemirror_mode": {
    "name": "ipython",
    "version": 3
   },
   "file_extension": ".py",
   "mimetype": "text/x-python",
   "name": "python",
   "nbconvert_exporter": "python",
   "pygments_lexer": "ipython3",
   "version": "3.9.12"
  }
 },
 "nbformat": 4,
 "nbformat_minor": 5
}
